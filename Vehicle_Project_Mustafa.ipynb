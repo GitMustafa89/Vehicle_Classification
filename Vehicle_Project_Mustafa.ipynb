{
  "cells": [
    {
      "cell_type": "code",
      "execution_count": null,
      "metadata": {
        "colab": {
          "base_uri": "https://localhost:8080/"
        },
        "id": "1scLJNWRDLvX",
        "outputId": "790ad24c-b3bf-46f1-db15-e61961cc5f3a"
      },
      "outputs": [
        {
          "name": "stdout",
          "output_type": "stream",
          "text": [
            "Mounted at /content/drive\n"
          ]
        }
      ],
      "source": [
        "from google.colab import drive\n",
        "drive.mount('/content/drive')"
      ]
    },
    {
      "cell_type": "code",
      "execution_count": null,
      "metadata": {
        "id": "QZQYG-cbTbkU"
      },
      "outputs": [],
      "source": [
        "import os\n",
        "os.environ['KAGGLE_CONFIG_DIR'] = \"/content/drive/MyDrive/kaggle\""
      ]
    },
    {
      "cell_type": "code",
      "execution_count": null,
      "metadata": {
        "colab": {
          "base_uri": "https://localhost:8080/"
        },
        "id": "QlVoY-VYTePr",
        "outputId": "9d5e6758-ff4e-4225-9413-1a4db1e566f6"
      },
      "outputs": [
        {
          "name": "stdout",
          "output_type": "stream",
          "text": [
            "/content/drive/MyDrive/kaggle\n"
          ]
        }
      ],
      "source": [
        "%cd /content/drive/MyDrive/kaggle/"
      ]
    },
    {
      "cell_type": "code",
      "execution_count": null,
      "metadata": {
        "colab": {
          "base_uri": "https://localhost:8080/"
        },
        "id": "E86IVBBpTgm7",
        "outputId": "ed980efa-0e30-47df-df38-ba7bd750bd11"
      },
      "outputs": [
        {
          "name": "stdout",
          "output_type": "stream",
          "text": [
            "Downloading vehicle-type-recognition.zip to /content/drive/MyDrive/kaggle\n",
            " 98% 156M/159M [00:08<00:00, 26.1MB/s]\n",
            "100% 159M/159M [00:08<00:00, 20.6MB/s]\n"
          ]
        }
      ],
      "source": [
        "!kaggle datasets download -d kaggleashwin/vehicle-type-recognition --unzip"
      ]
    },
    {
      "cell_type": "code",
      "execution_count": null,
      "metadata": {
        "id": "Wa9aZ9UwYdKS"
      },
      "outputs": [],
      "source": [
        "import os, shutil\n",
        "original_dataset_dir = r'/content/drive/MyDrive/kaggle/Dataset/'\n",
        "base_dir = r'/content/drive/MyDrive/Vehicle_Project'\n",
        "# os.mkdir(base_dir)"
      ]
    },
    {
      "cell_type": "code",
      "execution_count": null,
      "metadata": {
        "id": "QzeT3rLRZOgK"
      },
      "outputs": [],
      "source": [
        "train_dir = os.path.join(base_dir, 'train')\n",
        "os.mkdir(train_dir)\n",
        "\n",
        "validation_dir = os.path.join(base_dir, 'validation')\n",
        "os.mkdir(validation_dir)\n",
        "\n",
        "test_dir = os.path.join(base_dir, 'test')\n",
        "os.mkdir(test_dir)"
      ]
    },
    {
      "cell_type": "code",
      "execution_count": null,
      "metadata": {
        "id": "dH0u95BUZYsi"
      },
      "outputs": [],
      "source": [
        "train_Bus_dir = os.path.join(train_dir, 'Bus')\n",
        "os.mkdir(train_Bus_dir)\n",
        "\n",
        "train_Car_dir = os.path.join(train_dir, 'Car')\n",
        "os.mkdir(train_Car_dir)\n",
        "\n",
        "train_Motorcycle_dir = os.path.join(train_dir, 'Motorcycle')\n",
        "os.mkdir(train_Motorcycle_dir)\n",
        "\n",
        "train_Truck_dir = os.path.join(train_dir, 'Truck')\n",
        "os.mkdir(train_Truck_dir)\n",
        "\n",
        "validation_Bus_dir = os.path.join(validation_dir, 'Bus')\n",
        "os.mkdir(validation_Bus_dir)\n",
        "\n",
        "validation_Car_dir = os.path.join(validation_dir, 'Car')\n",
        "os.mkdir(validation_Car_dir)\n",
        "\n",
        "validation_Motorcycle_dir = os.path.join(validation_dir, 'Motorcycle')\n",
        "os.mkdir(validation_Motorcycle_dir)\n",
        "\n",
        "validation_Truck_dir = os.path.join(validation_dir, 'Truck')\n",
        "os.mkdir(validation_Truck_dir)\n",
        "\n",
        "test_Bus_dir = os.path.join(test_dir, 'Bus')\n",
        "os.mkdir(test_Bus_dir)\n",
        "\n",
        "test_Car_dir = os.path.join(test_dir, 'Car')\n",
        "os.mkdir(test_Car_dir)\n",
        "\n",
        "test_Motorcycle_dir = os.path.join(test_dir, 'Motorcycle')\n",
        "os.mkdir(test_Motorcycle_dir)\n",
        "\n",
        "test_Truck_dir = os.path.join(test_dir, 'Truck')\n",
        "os.mkdir(test_Truck_dir)"
      ]
    },
    {
      "cell_type": "code",
      "execution_count": null,
      "metadata": {
        "id": "ROsGLFtChALL"
      },
      "outputs": [],
      "source": [
        "for filename in os.listdir(original_dataset_dir+\"Bus\"):\n",
        "    # Check if the file has a recognized image extension\n",
        "    if filename.endswith((\".jpeg\", \".png\", \".gif\", \".bmp\",\"JPG\")):\n",
        "        # Construct the new file name with the desired extension\n",
        "        new_filename = os.path.splitext(filename)[0] + \".jpg\"\n",
        "        # Join the source directory and file name to get the full path\n",
        "        source_path = os.path.join(original_dataset_dir+\"Bus\", filename)\n",
        "        new_path = os.path.join(original_dataset_dir+\"Bus\", new_filename)\n",
        "        # Rename the file\n",
        "        shutil.move(source_path, new_path)"
      ]
    },
    {
      "cell_type": "code",
      "execution_count": null,
      "metadata": {
        "id": "tuoR9qWliLjo"
      },
      "outputs": [],
      "source": [
        "for filename in os.listdir(original_dataset_dir+\"Car\"):\n",
        "    # Check if the file has a recognized image extension\n",
        "    if filename.endswith((\".jpeg\", \".png\", \".gif\", \".bmp\",\"JPG\")):\n",
        "        # Construct the new file name with the desired extension\n",
        "        new_filename = os.path.splitext(filename)[0] + \".jpg\"\n",
        "        # Join the source directory and file name to get the full path\n",
        "        source_path = os.path.join(original_dataset_dir+\"Car\", filename)\n",
        "        new_path = os.path.join(original_dataset_dir+\"Car\", new_filename)\n",
        "        # Rename the file\n",
        "        shutil.move(source_path, new_path)"
      ]
    },
    {
      "cell_type": "code",
      "execution_count": null,
      "metadata": {
        "id": "Am4orcONiK45"
      },
      "outputs": [],
      "source": [
        "for filename in os.listdir(original_dataset_dir+\"Truck\"):\n",
        "    # Check if the file has a recognized image extension\n",
        "    if filename.endswith((\".jpeg\", \".png\", \".gif\", \".bmp\",\"JPG\")):\n",
        "        # Construct the new file name with the desired extension\n",
        "        new_filename = os.path.splitext(filename)[0] + \".jpg\"\n",
        "        # Join the source directory and file name to get the full path\n",
        "        source_path = os.path.join(original_dataset_dir+\"Truck\", filename)\n",
        "        new_path = os.path.join(original_dataset_dir+\"Truck\", new_filename)\n",
        "        # Rename the file\n",
        "        shutil.move(source_path, new_path)"
      ]
    },
    {
      "cell_type": "code",
      "execution_count": null,
      "metadata": {
        "id": "y2FMCRIiiKhZ"
      },
      "outputs": [],
      "source": [
        "for filename in os.listdir(original_dataset_dir+\"Motorcycle\"):\n",
        "    # Check if the file has a recognized image extension\n",
        "    if filename.endswith((\".jpeg\", \".png\", \".gif\", \".bmp\",\"JPG\")):\n",
        "        # Construct the new file name with the desired extension\n",
        "        new_filename = os.path.splitext(filename)[0] + \".jpg\"\n",
        "        # Join the source directory and file name to get the full path\n",
        "        source_path = os.path.join(original_dataset_dir+\"Motorcycle\", filename)\n",
        "        new_path = os.path.join(original_dataset_dir+\"Motorcycle\", new_filename)\n",
        "        # Rename the file\n",
        "        shutil.move(source_path, new_path)"
      ]
    },
    {
      "cell_type": "code",
      "execution_count": null,
      "metadata": {
        "id": "FP9XecgtaxJM"
      },
      "outputs": [],
      "source": [
        "import os, shutil\n",
        "fnames = [f'Image_{i}.jpg' for i in range(1,61)]\n",
        "for fname in fnames:\n",
        "    src = os.path.join(original_dataset_dir+\"Bus\", fname)\n",
        "    dst = os.path.join(train_Bus_dir, fname)\n",
        "    shutil.copyfile(src, dst)"
      ]
    },
    {
      "cell_type": "code",
      "execution_count": null,
      "metadata": {
        "id": "5oxejvgwiiov"
      },
      "outputs": [],
      "source": [
        "import os, shutil\n",
        "fnames = [f'Image_{i}.jpg' for i in range(1,61)]\n",
        "for fname in fnames:\n",
        "    src = os.path.join(original_dataset_dir+\"Car\", fname)\n",
        "    dst = os.path.join(train_Car_dir, fname)\n",
        "    shutil.copyfile(src, dst)"
      ]
    },
    {
      "cell_type": "code",
      "execution_count": null,
      "metadata": {
        "id": "B6ssNahIi0AJ"
      },
      "outputs": [],
      "source": [
        "import os, shutil\n",
        "fnames = [f'Image_{i}.jpg' for i in range(1,61)]\n",
        "for fname in fnames:\n",
        "    src = os.path.join(original_dataset_dir+\"Truck\", fname)\n",
        "    dst = os.path.join(train_Truck_dir, fname)\n",
        "    shutil.copyfile(src, dst)"
      ]
    },
    {
      "cell_type": "code",
      "execution_count": null,
      "metadata": {
        "id": "kLqryMRdizuq"
      },
      "outputs": [],
      "source": [
        "import os, shutil\n",
        "fnames = [f'Image_{i}.jpg' for i in range(1,61)]\n",
        "for fname in fnames:\n",
        "    src = os.path.join(original_dataset_dir+\"Motorcycle\", fname)\n",
        "    dst = os.path.join(train_Motorcycle_dir, fname)\n",
        "    shutil.copyfile(src, dst)"
      ]
    },
    {
      "cell_type": "code",
      "execution_count": null,
      "metadata": {
        "id": "koU_Y73XfJoK"
      },
      "outputs": [],
      "source": [
        "import os, shutil\n",
        "fnames = [f'Image_{i}.jpg' for i in range(61,81)]\n",
        "for fname in fnames:\n",
        "    src = os.path.join(original_dataset_dir+\"Bus\", fname)\n",
        "    dst = os.path.join(test_Bus_dir, fname)\n",
        "    shutil.copyfile(src, dst)"
      ]
    },
    {
      "cell_type": "code",
      "execution_count": null,
      "metadata": {
        "id": "PCRfks6DjVE4"
      },
      "outputs": [],
      "source": [
        "import os, shutil\n",
        "fnames = [f'Image_{i}.jpg' for i in range(61,81)]\n",
        "for fname in fnames:\n",
        "    src = os.path.join(original_dataset_dir+\"Car\", fname)\n",
        "    dst = os.path.join(test_Car_dir, fname)\n",
        "    shutil.copyfile(src, dst)"
      ]
    },
    {
      "cell_type": "code",
      "execution_count": null,
      "metadata": {
        "id": "AQ6KkmDfjU3o"
      },
      "outputs": [],
      "source": [
        "import os, shutil\n",
        "fnames = [f'Image_{i}.jpg' for i in range(61,81)]\n",
        "for fname in fnames:\n",
        "    src = os.path.join(original_dataset_dir+\"Truck\", fname)\n",
        "    dst = os.path.join(test_Truck_dir, fname)\n",
        "    shutil.copyfile(src, dst)"
      ]
    },
    {
      "cell_type": "code",
      "execution_count": null,
      "metadata": {
        "id": "JA--7wz0jUjw"
      },
      "outputs": [],
      "source": [
        "import os, shutil\n",
        "fnames = [f'Image_{i}.jpg' for i in range(61,81)]\n",
        "for fname in fnames:\n",
        "    src = os.path.join(original_dataset_dir+\"Motorcycle\", fname)\n",
        "    dst = os.path.join(test_Motorcycle_dir, fname)\n",
        "    shutil.copyfile(src, dst)"
      ]
    },
    {
      "cell_type": "code",
      "execution_count": null,
      "metadata": {
        "id": "IO-EkKg3fLW5"
      },
      "outputs": [],
      "source": [
        "import os, shutil\n",
        "fnames = [f'Image_{i}.jpg' for i in range(81,101)]\n",
        "for fname in fnames:\n",
        "    src = os.path.join(original_dataset_dir+\"Bus\", fname)\n",
        "    dst = os.path.join(validation_Bus_dir, fname)\n",
        "    shutil.copyfile(src, dst)"
      ]
    },
    {
      "cell_type": "code",
      "execution_count": null,
      "metadata": {
        "id": "xX9kK7Dkj65Y"
      },
      "outputs": [],
      "source": [
        "import os, shutil\n",
        "fnames = [f'Image_{i}.jpg' for i in range(81,101)]\n",
        "for fname in fnames:\n",
        "    src = os.path.join(original_dataset_dir+\"Car\", fname)\n",
        "    dst = os.path.join(validation_Car_dir, fname)\n",
        "    shutil.copyfile(src, dst)"
      ]
    },
    {
      "cell_type": "code",
      "execution_count": null,
      "metadata": {
        "id": "yIDMxzWvj6ug"
      },
      "outputs": [],
      "source": [
        "import os, shutil\n",
        "fnames = [f'Image_{i}.jpg' for i in range(81,101)]\n",
        "for fname in fnames:\n",
        "    src = os.path.join(original_dataset_dir+\"Truck\", fname)\n",
        "    dst = os.path.join(validation_Truck_dir, fname)\n",
        "    shutil.copyfile(src, dst)"
      ]
    },
    {
      "cell_type": "code",
      "execution_count": null,
      "metadata": {
        "id": "jcOWPCKHj6fp"
      },
      "outputs": [],
      "source": [
        "import os, shutil\n",
        "fnames = [f'Image_{i}.jpg' for i in range(81,101)]\n",
        "for fname in fnames:\n",
        "    src = os.path.join(original_dataset_dir+\"Motorcycle\", fname)\n",
        "    dst = os.path.join(validation_Motorcycle_dir, fname)\n",
        "    shutil.copyfile(src, dst)"
      ]
    },
    {
      "cell_type": "code",
      "execution_count": 101,
      "metadata": {
        "id": "CVqVUL5ZkHyR"
      },
      "outputs": [],
      "source": [
        "from tensorflow.keras import layers\n",
        "from tensorflow.keras import models\n",
        "model = models.Sequential()\n",
        "model.add(layers.Conv2D(32, (3, 3), activation='relu',input_shape=(150, 150, 3)))\n",
        "model.add(layers.MaxPooling2D((2, 2)))\n",
        "\n",
        "model.add(layers.Conv2D(64, (3, 3), activation='relu'))\n",
        "model.add(layers.MaxPooling2D((2, 2)))\n",
        "\n",
        "model.add(layers.Conv2D(128, (3, 3), activation='relu'))\n",
        "model.add(layers.MaxPooling2D((2, 2)))\n",
        "\n",
        "model.add(layers.Conv2D(128, (3, 3), activation='relu'))\n",
        "model.add(layers.MaxPooling2D((2, 2)))\n",
        "\n",
        "model.add(layers.Flatten())\n",
        "model.add(layers.Dense(512, activation='relu'))\n",
        "model.add(layers.Dense(4, activation='softmax'))"
      ]
    },
    {
      "cell_type": "code",
      "execution_count": 102,
      "metadata": {
        "colab": {
          "base_uri": "https://localhost:8080/"
        },
        "id": "pQe9Q6SUfMII",
        "outputId": "fa9554fd-688d-45f2-bc3d-bff2ea6277d2"
      },
      "outputs": [
        {
          "output_type": "stream",
          "name": "stdout",
          "text": [
            "Model: \"sequential_3\"\n",
            "_________________________________________________________________\n",
            " Layer (type)                Output Shape              Param #   \n",
            "=================================================================\n",
            " conv2d_12 (Conv2D)          (None, 148, 148, 32)      896       \n",
            "                                                                 \n",
            " max_pooling2d_12 (MaxPooli  (None, 74, 74, 32)        0         \n",
            " ng2D)                                                           \n",
            "                                                                 \n",
            " conv2d_13 (Conv2D)          (None, 72, 72, 64)        18496     \n",
            "                                                                 \n",
            " max_pooling2d_13 (MaxPooli  (None, 36, 36, 64)        0         \n",
            " ng2D)                                                           \n",
            "                                                                 \n",
            " conv2d_14 (Conv2D)          (None, 34, 34, 128)       73856     \n",
            "                                                                 \n",
            " max_pooling2d_14 (MaxPooli  (None, 17, 17, 128)       0         \n",
            " ng2D)                                                           \n",
            "                                                                 \n",
            " conv2d_15 (Conv2D)          (None, 15, 15, 128)       147584    \n",
            "                                                                 \n",
            " max_pooling2d_15 (MaxPooli  (None, 7, 7, 128)         0         \n",
            " ng2D)                                                           \n",
            "                                                                 \n",
            " flatten_3 (Flatten)         (None, 6272)              0         \n",
            "                                                                 \n",
            " dense_6 (Dense)             (None, 512)               3211776   \n",
            "                                                                 \n",
            " dense_7 (Dense)             (None, 4)                 2052      \n",
            "                                                                 \n",
            "=================================================================\n",
            "Total params: 3454660 (13.18 MB)\n",
            "Trainable params: 3454660 (13.18 MB)\n",
            "Non-trainable params: 0 (0.00 Byte)\n",
            "_________________________________________________________________\n"
          ]
        }
      ],
      "source": [
        "model.summary()"
      ]
    },
    {
      "cell_type": "code",
      "execution_count": 103,
      "metadata": {
        "colab": {
          "base_uri": "https://localhost:8080/"
        },
        "id": "M1EXgcE5kP45",
        "outputId": "3d324e5f-f8da-48b6-be46-800404af745b"
      },
      "outputs": [
        {
          "output_type": "stream",
          "name": "stderr",
          "text": [
            "WARNING:absl:`lr` is deprecated in Keras optimizer, please use `learning_rate` or use the legacy optimizer, e.g.,tf.keras.optimizers.legacy.RMSprop.\n"
          ]
        }
      ],
      "source": [
        "from tensorflow.keras import optimizers\n",
        "model.compile(loss='categorical_crossentropy',optimizer=optimizers.RMSprop(lr=1e-4),metrics=['acc'])"
      ]
    },
    {
      "cell_type": "code",
      "execution_count": 104,
      "metadata": {
        "id": "DKYAK78ZkU1p"
      },
      "outputs": [],
      "source": [
        "from tensorflow.keras.preprocessing.image import ImageDataGenerator"
      ]
    },
    {
      "cell_type": "code",
      "execution_count": 105,
      "metadata": {
        "id": "WvCa4f0CkVtw"
      },
      "outputs": [],
      "source": [
        "train_datagen = ImageDataGenerator(rescale=1./255)\n",
        "test_datagen = ImageDataGenerator(rescale=1./255)\n",
        "validation_datagen = ImageDataGenerator(rescale=1./255)"
      ]
    },
    {
      "cell_type": "code",
      "execution_count": 106,
      "metadata": {
        "colab": {
          "base_uri": "https://localhost:8080/"
        },
        "id": "ISPRdVVukVqE",
        "outputId": "37fab9f1-634a-415a-dce8-36c3ef029706"
      },
      "outputs": [
        {
          "output_type": "stream",
          "name": "stdout",
          "text": [
            "Found 240 images belonging to 4 classes.\n",
            "Found 80 images belonging to 4 classes.\n",
            "Found 80 images belonging to 4 classes.\n"
          ]
        }
      ],
      "source": [
        "train_generator = train_datagen.flow_from_directory(\n",
        "                                train_dir,\n",
        "                                target_size=(150, 150),\n",
        "                                batch_size=20,\n",
        "                                class_mode='categorical')\n",
        "\n",
        "validation_generator = validation_datagen.flow_from_directory(\n",
        "                                validation_dir,\n",
        "                                target_size=(150, 150),\n",
        "                                batch_size=20,\n",
        "                                class_mode='categorical')\n",
        "\n",
        "test_generator = test_datagen.flow_from_directory(\n",
        "                                test_dir,\n",
        "                                target_size=(150, 150),\n",
        "                                batch_size=20,\n",
        "                                class_mode='categorical')"
      ]
    },
    {
      "cell_type": "code",
      "execution_count": 107,
      "metadata": {
        "colab": {
          "base_uri": "https://localhost:8080/"
        },
        "id": "lb8_Z_bdKK3u",
        "outputId": "7a7452c7-8ef4-4ddf-eb8b-3b1773fbeca1"
      },
      "outputs": [
        {
          "output_type": "execute_result",
          "data": {
            "text/plain": [
              "array([0, 0, 0, 0, 0, 0, 0, 0, 0, 0, 0, 0, 0, 0, 0, 0, 0, 0, 0, 0, 1, 1,\n",
              "       1, 1, 1, 1, 1, 1, 1, 1, 1, 1, 1, 1, 1, 1, 1, 1, 1, 1, 2, 2, 2, 2,\n",
              "       2, 2, 2, 2, 2, 2, 2, 2, 2, 2, 2, 2, 2, 2, 2, 2, 3, 3, 3, 3, 3, 3,\n",
              "       3, 3, 3, 3, 3, 3, 3, 3, 3, 3, 3, 3, 3, 3], dtype=int32)"
            ]
          },
          "metadata": {},
          "execution_count": 107
        }
      ],
      "source": [
        "test_generator.classes"
      ]
    },
    {
      "cell_type": "code",
      "execution_count": 108,
      "metadata": {
        "colab": {
          "base_uri": "https://localhost:8080/"
        },
        "id": "j-h0PpCckVnp",
        "outputId": "9d72c898-6cf3-4823-d42b-16460501d120"
      },
      "outputs": [
        {
          "output_type": "stream",
          "name": "stderr",
          "text": [
            "<ipython-input-108-bae24a5c13d1>:1: UserWarning: `Model.fit_generator` is deprecated and will be removed in a future version. Please use `Model.fit`, which supports generators.\n",
            "  history = model.fit_generator(\n"
          ]
        },
        {
          "output_type": "stream",
          "name": "stdout",
          "text": [
            "Epoch 1/30\n",
            "12/12 [==============================] - 21s 2s/step - loss: 1.4827 - acc: 0.2833 - val_loss: 1.3823 - val_acc: 0.2500\n",
            "Epoch 2/30\n",
            "12/12 [==============================] - 23s 2s/step - loss: 1.3839 - acc: 0.2708 - val_loss: 1.3647 - val_acc: 0.4000\n",
            "Epoch 3/30\n",
            "12/12 [==============================] - 20s 2s/step - loss: 1.5214 - acc: 0.3750 - val_loss: 1.3896 - val_acc: 0.2500\n",
            "Epoch 4/30\n",
            "12/12 [==============================] - 21s 2s/step - loss: 1.3239 - acc: 0.4667 - val_loss: 1.3051 - val_acc: 0.3250\n",
            "Epoch 5/30\n",
            "12/12 [==============================] - 20s 2s/step - loss: 1.1650 - acc: 0.5333 - val_loss: 1.9894 - val_acc: 0.3500\n",
            "Epoch 6/30\n",
            "12/12 [==============================] - 23s 2s/step - loss: 0.9477 - acc: 0.6333 - val_loss: 1.2807 - val_acc: 0.5125\n",
            "Epoch 7/30\n",
            "12/12 [==============================] - 20s 2s/step - loss: 0.8581 - acc: 0.6542 - val_loss: 1.0476 - val_acc: 0.5750\n",
            "Epoch 8/30\n",
            "12/12 [==============================] - 21s 2s/step - loss: 0.8080 - acc: 0.7167 - val_loss: 1.6298 - val_acc: 0.4125\n",
            "Epoch 9/30\n",
            "12/12 [==============================] - 23s 2s/step - loss: 0.6669 - acc: 0.7458 - val_loss: 1.2167 - val_acc: 0.5375\n",
            "Epoch 10/30\n",
            "12/12 [==============================] - 22s 2s/step - loss: 0.4747 - acc: 0.8292 - val_loss: 1.5688 - val_acc: 0.5000\n",
            "Epoch 11/30\n",
            "12/12 [==============================] - 20s 2s/step - loss: 0.5806 - acc: 0.8042 - val_loss: 1.5193 - val_acc: 0.5000\n",
            "Epoch 12/30\n",
            "12/12 [==============================] - 20s 2s/step - loss: 0.4677 - acc: 0.8333 - val_loss: 1.2904 - val_acc: 0.5750\n",
            "Epoch 13/30\n",
            "12/12 [==============================] - 21s 2s/step - loss: 0.4904 - acc: 0.8375 - val_loss: 1.4619 - val_acc: 0.5625\n",
            "Epoch 14/30\n",
            "12/12 [==============================] - 21s 2s/step - loss: 0.1754 - acc: 0.9500 - val_loss: 1.7354 - val_acc: 0.5750\n",
            "Epoch 15/30\n",
            "12/12 [==============================] - 22s 2s/step - loss: 0.3487 - acc: 0.9125 - val_loss: 1.3730 - val_acc: 0.5375\n",
            "Epoch 16/30\n",
            "12/12 [==============================] - 20s 2s/step - loss: 0.1299 - acc: 0.9750 - val_loss: 2.2070 - val_acc: 0.5625\n",
            "Epoch 17/30\n",
            "12/12 [==============================] - 21s 2s/step - loss: 0.0351 - acc: 0.9917 - val_loss: 2.4253 - val_acc: 0.5000\n",
            "Epoch 18/30\n",
            "12/12 [==============================] - 20s 2s/step - loss: 0.3360 - acc: 0.8833 - val_loss: 2.1810 - val_acc: 0.5250\n",
            "Epoch 19/30\n",
            "12/12 [==============================] - 22s 2s/step - loss: 0.0222 - acc: 0.9958 - val_loss: 2.6371 - val_acc: 0.5000\n",
            "Epoch 20/30\n",
            "12/12 [==============================] - 22s 2s/step - loss: 0.0057 - acc: 1.0000 - val_loss: 3.0309 - val_acc: 0.5750\n",
            "Epoch 21/30\n",
            "12/12 [==============================] - 19s 2s/step - loss: 0.0040 - acc: 1.0000 - val_loss: 3.3098 - val_acc: 0.5750\n",
            "Epoch 22/30\n",
            "12/12 [==============================] - 20s 2s/step - loss: 7.7093e-04 - acc: 1.0000 - val_loss: 3.7109 - val_acc: 0.5875\n",
            "Epoch 23/30\n",
            "12/12 [==============================] - 23s 2s/step - loss: 4.0097e-04 - acc: 1.0000 - val_loss: 3.9613 - val_acc: 0.5875\n",
            "Epoch 24/30\n",
            "12/12 [==============================] - 20s 2s/step - loss: 2.3796e-04 - acc: 1.0000 - val_loss: 4.1991 - val_acc: 0.5875\n",
            "Epoch 25/30\n",
            "12/12 [==============================] - 20s 2s/step - loss: 1.4647e-04 - acc: 1.0000 - val_loss: 4.4502 - val_acc: 0.5875\n",
            "Epoch 26/30\n",
            "12/12 [==============================] - 20s 2s/step - loss: 9.7761e-05 - acc: 1.0000 - val_loss: 4.6553 - val_acc: 0.5750\n",
            "Epoch 27/30\n",
            "12/12 [==============================] - 22s 2s/step - loss: 6.7423e-05 - acc: 1.0000 - val_loss: 4.8139 - val_acc: 0.5875\n",
            "Epoch 28/30\n",
            "12/12 [==============================] - 20s 2s/step - loss: 4.8540e-05 - acc: 1.0000 - val_loss: 5.0147 - val_acc: 0.5750\n",
            "Epoch 29/30\n",
            "12/12 [==============================] - 20s 2s/step - loss: 4.8236e-05 - acc: 1.0000 - val_loss: 5.2817 - val_acc: 0.6000\n",
            "Epoch 30/30\n",
            "12/12 [==============================] - 21s 2s/step - loss: 2.7625e-05 - acc: 1.0000 - val_loss: 5.3250 - val_acc: 0.5750\n"
          ]
        }
      ],
      "source": [
        "history = model.fit_generator(\n",
        "\t\t\t\ttrain_generator,\n",
        "\t\t\t\tsteps_per_epoch=len(train_generator),\n",
        "\t\t\t\tepochs=30,\n",
        "\t\t\t\tvalidation_data=validation_generator,\n",
        "\t\t\t\tvalidation_steps=len(validation_generator))"
      ]
    },
    {
      "cell_type": "code",
      "execution_count": 109,
      "metadata": {
        "colab": {
          "base_uri": "https://localhost:8080/"
        },
        "id": "ozyPuMyoI3ff",
        "outputId": "b3dcf0de-34af-4c67-bd39-3cf4b40e3515"
      },
      "outputs": [
        {
          "output_type": "execute_result",
          "data": {
            "text/plain": [
              "dict_keys(['loss', 'acc', 'val_loss', 'val_acc'])"
            ]
          },
          "metadata": {},
          "execution_count": 109
        }
      ],
      "source": [
        "history.history.keys()"
      ]
    },
    {
      "cell_type": "markdown",
      "metadata": {
        "id": "0EMdxdZxw31w"
      },
      "source": [
        "# Plot Accuracy"
      ]
    },
    {
      "cell_type": "code",
      "execution_count": 111,
      "metadata": {
        "id": "kJaNx8HFxBmY"
      },
      "outputs": [],
      "source": [
        "import matplotlib.pyplot as plt\n",
        "import numpy as np"
      ]
    },
    {
      "cell_type": "code",
      "execution_count": 112,
      "metadata": {
        "colab": {
          "base_uri": "https://localhost:8080/",
          "height": 927
        },
        "id": "sWlFEp4EkVj6",
        "outputId": "253cf60f-86b0-45d3-eb53-b6c34b86c4c0"
      },
      "outputs": [
        {
          "output_type": "display_data",
          "data": {
            "text/plain": [
              "<Figure size 640x480 with 1 Axes>"
            ],
            "image/png": "[encoded data removed]"
          },
          "metadata": {}
        },
        {
          "output_type": "display_data",
          "data": {
            "text/plain": [
              "<Figure size 640x480 with 1 Axes>"
            ],
            "image/png": "[encoded data removed]"
          },
          "metadata": {}
        }
      ],
      "source": [
        " # summarize history for accuracy\n",
        "plt.plot(history.history['acc'])\n",
        "plt.plot(history.history['val_acc'])\n",
        "plt.title('model accuracy')\n",
        "plt.ylabel('accuracy')\n",
        "plt.xlabel('epoch')\n",
        "plt.legend(['train', 'test'], loc='upper left')\n",
        "plt.show()\n",
        "\n",
        "# summarize history for loss\n",
        "plt.plot(history.history['loss'])\n",
        "plt.plot(history.history['val_loss'])\n",
        "plt.title('model loss')\n",
        "plt.ylabel('loss')\n",
        "plt.xlabel('epoch')\n",
        "plt.legend(['train', 'test'], loc='upper left')\n",
        "plt.show()"
      ]
    },
    {
      "cell_type": "markdown",
      "metadata": {
        "id": "WdQcqua6EXOI"
      },
      "source": [
        "# Prediction"
      ]
    },
    {
      "cell_type": "code",
      "execution_count": 113,
      "metadata": {
        "colab": {
          "base_uri": "https://localhost:8080/"
        },
        "id": "PSC2LVilkVcB",
        "outputId": "6b0729c0-c922-4354-a486-669f8f7de9c9"
      },
      "outputs": [
        {
          "output_type": "stream",
          "name": "stderr",
          "text": [
            "<ipython-input-113-18644f48621c>:1: UserWarning: `Model.predict_generator` is deprecated and will be removed in a future version. Please use `Model.predict`, which supports generators.\n",
            "  Y_pred= model.predict_generator(test_generator)\n",
            "/usr/local/lib/python3.10/dist-packages/PIL/Image.py:996: UserWarning: Palette images with Transparency expressed in bytes should be converted to RGBA images\n",
            "  warnings.warn(\n"
          ]
        },
        {
          "output_type": "execute_result",
          "data": {
            "text/plain": [
              "array([[4.46990677e-23, 1.04334916e-20, 9.99999940e-01, 7.45821906e-20],\n",
              "       [9.71677125e-01, 4.16961802e-06, 1.56358365e-05, 2.83030458e-02],\n",
              "       [9.99982297e-01, 1.42367064e-15, 1.76028097e-05, 3.90186505e-09],\n",
              "       [9.36205499e-03, 9.76478815e-01, 1.24678490e-06, 1.41579211e-02],\n",
              "       [6.07457539e-14, 9.99996364e-01, 2.58819015e-14, 3.54128315e-06],\n",
              "       [2.38062846e-12, 9.99999940e-01, 1.60729077e-19, 6.53624464e-12],\n",
              "       [1.52371129e-08, 2.20455322e-02, 9.77954447e-01, 1.02796482e-08],\n",
              "       [3.05824610e-03, 2.86830938e-03, 2.64945618e-12, 9.94073391e-01],\n",
              "       [6.07576855e-02, 3.65524251e-08, 9.39238429e-01, 3.84887198e-06],\n",
              "       [3.15738827e-01, 6.02226555e-01, 2.40885551e-04, 8.17936733e-02],\n",
              "       [2.51937062e-02, 4.71618441e-05, 2.86462309e-04, 9.74472642e-01],\n",
              "       [9.99945343e-01, 7.21096995e-08, 4.46323156e-06, 5.01103241e-05],\n",
              "       [9.89652932e-01, 8.62311013e-03, 2.62212609e-07, 1.72370125e-03],\n",
              "       [3.88624296e-02, 7.07762950e-08, 9.56106424e-01, 5.03110513e-03],\n",
              "       [7.19340642e-06, 9.99989092e-01, 3.61041384e-06, 1.19263760e-07],\n",
              "       [3.17627348e-11, 1.84670110e-13, 9.99998391e-01, 1.57459147e-06],\n",
              "       [1.73254669e-01, 3.35698843e-01, 8.27741486e-11, 4.91046488e-01],\n",
              "       [1.01925388e-01, 8.97574067e-01, 4.98236041e-04, 2.38243751e-06],\n",
              "       [3.64492649e-08, 9.89645123e-01, 9.57399700e-03, 7.80863047e-04],\n",
              "       [5.78522063e-22, 4.95527138e-16, 1.00000000e+00, 3.99250945e-12],\n",
              "       [2.65052180e-09, 2.82455403e-07, 4.66131508e-01, 5.33868194e-01],\n",
              "       [5.75086278e-18, 9.99999940e-01, 1.15239827e-12, 3.38562356e-14],\n",
              "       [3.15918498e-07, 8.03959370e-03, 9.75620207e-09, 9.91960049e-01],\n",
              "       [9.82185602e-01, 2.18598925e-05, 1.62581145e-03, 1.61665604e-02],\n",
              "       [1.06982874e-07, 1.04517443e-03, 6.62472854e-11, 9.98954535e-01],\n",
              "       [8.66462409e-01, 1.13669550e-02, 1.23737162e-04, 1.22046866e-01],\n",
              "       [1.83840476e-09, 3.40610177e-06, 9.96590614e-01, 3.40578728e-03],\n",
              "       [1.32218674e-02, 4.04330567e-02, 5.22388577e-01, 4.23956543e-01],\n",
              "       [9.99997914e-01, 1.45285969e-06, 6.06971980e-07, 6.12091045e-10],\n",
              "       [2.95004945e-08, 1.65768803e-14, 9.99998868e-01, 1.02971228e-06],\n",
              "       [1.27964894e-09, 2.00000685e-03, 6.42472031e-09, 9.97999966e-01],\n",
              "       [2.93363356e-14, 9.58651185e-01, 1.03272350e-17, 4.13488336e-02],\n",
              "       [2.69850791e-01, 7.30139971e-01, 3.47985918e-10, 9.21695118e-06],\n",
              "       [1.63002498e-02, 1.67613789e-01, 1.29886780e-06, 8.16084683e-01],\n",
              "       [1.16352942e-06, 3.53733287e-09, 9.99911726e-01, 8.69636860e-05],\n",
              "       [7.19375578e-07, 9.92272735e-01, 7.12314330e-04, 7.01409113e-03],\n",
              "       [9.99990463e-01, 3.21768545e-09, 1.74828989e-14, 9.58434157e-06],\n",
              "       [5.77418983e-01, 1.60996430e-03, 6.78811281e-04, 4.20292199e-01],\n",
              "       [5.78737015e-12, 9.97778714e-01, 3.58053185e-05, 2.18542828e-03],\n",
              "       [9.98925269e-01, 2.45062694e-07, 9.13575786e-05, 9.83122736e-04],\n",
              "       [9.99060690e-01, 2.93964748e-11, 9.39361111e-04, 4.46958970e-10],\n",
              "       [2.69929459e-03, 3.80788669e-02, 9.50922728e-01, 8.29911139e-03],\n",
              "       [2.33185902e-01, 2.62363127e-08, 8.48089803e-06, 7.66805589e-01],\n",
              "       [4.86249452e-12, 5.47270758e-07, 1.49223244e-12, 9.99999344e-01],\n",
              "       [6.32970361e-03, 9.93666351e-01, 8.49506332e-09, 3.86342572e-06],\n",
              "       [1.07956054e-02, 4.91367200e-06, 2.27326751e-02, 9.66466725e-01],\n",
              "       [9.99684215e-01, 1.06473475e-04, 6.00738713e-05, 1.49327694e-04],\n",
              "       [9.99998987e-01, 8.04840250e-10, 4.67656378e-07, 4.81204609e-07],\n",
              "       [9.77657557e-01, 1.24700546e-05, 7.02440739e-04, 2.16275603e-02],\n",
              "       [3.38277314e-05, 9.99887288e-01, 3.76851546e-07, 7.83992291e-05],\n",
              "       [1.32921070e-01, 6.57576384e-05, 8.67001474e-01, 1.15243538e-05],\n",
              "       [1.81609357e-05, 8.37193337e-09, 9.99956191e-01, 2.56668445e-05],\n",
              "       [9.99988616e-01, 2.38246289e-09, 1.16051023e-10, 1.13256874e-05],\n",
              "       [9.10336599e-02, 1.75676303e-06, 1.59762334e-02, 8.92988384e-01],\n",
              "       [9.84123647e-01, 1.89375182e-08, 1.58762932e-02, 2.45956477e-09],\n",
              "       [4.28110834e-05, 6.22750031e-06, 8.64209539e-08, 9.99950826e-01],\n",
              "       [4.65133962e-05, 9.87311244e-01, 3.92819970e-07, 1.26419039e-02],\n",
              "       [9.99999881e-01, 1.08388235e-07, 9.42992053e-17, 1.84861668e-10],\n",
              "       [1.71486899e-01, 8.28513026e-01, 1.63940354e-11, 5.62250264e-08],\n",
              "       [1.23144470e-01, 1.06285710e-03, 3.95058095e-03, 8.71842086e-01],\n",
              "       [5.81406780e-08, 6.57333743e-09, 9.99986827e-01, 1.29801629e-05],\n",
              "       [2.49907117e-07, 9.99129295e-01, 2.86061822e-05, 8.41871661e-04],\n",
              "       [2.30922254e-07, 9.99729633e-01, 4.93552175e-16, 2.70150515e-04],\n",
              "       [4.73193504e-04, 1.75342397e-11, 3.28033976e-02, 9.66723442e-01],\n",
              "       [3.52132708e-01, 6.99986070e-02, 6.77326471e-02, 5.10136068e-01],\n",
              "       [4.28023010e-01, 6.60214605e-10, 1.94815630e-08, 5.71976960e-01],\n",
              "       [1.34628359e-15, 9.99999940e-01, 6.34471588e-14, 5.13910546e-11],\n",
              "       [2.44651972e-07, 1.05535147e-09, 9.99986231e-01, 1.34704269e-05],\n",
              "       [1.14745574e-10, 4.05608576e-12, 3.58702705e-13, 9.99999940e-01],\n",
              "       [3.54143925e-15, 9.97922421e-01, 1.00250312e-11, 2.07752222e-03],\n",
              "       [5.99156739e-03, 4.01352951e-09, 4.83581353e-09, 9.94008303e-01],\n",
              "       [1.20746263e-03, 6.65176927e-08, 1.82109520e-01, 8.16682994e-01],\n",
              "       [1.28913145e-12, 9.99999940e-01, 1.00497964e-10, 2.58742139e-09],\n",
              "       [9.43464816e-13, 7.29032576e-01, 2.70967275e-01, 2.05540502e-07],\n",
              "       [4.38947044e-02, 1.06455496e-04, 6.42191975e-13, 9.55998957e-01],\n",
              "       [8.55037868e-01, 2.36414792e-07, 3.75877676e-08, 1.44961968e-01],\n",
              "       [4.52358880e-11, 4.70595552e-07, 2.06585216e-09, 9.99999523e-01],\n",
              "       [6.80449887e-07, 9.99999285e-01, 4.15911640e-17, 1.66375770e-14],\n",
              "       [8.74980998e-17, 1.00000000e+00, 9.95832884e-21, 4.09526579e-12],\n",
              "       [1.23209363e-08, 2.34738291e-05, 9.96908844e-01, 3.06764524e-03]],\n",
              "      dtype=float32)"
            ]
          },
          "metadata": {},
          "execution_count": 113
        }
      ],
      "source": [
        "Y_pred= model.predict_generator(test_generator)\n",
        "Y_pred"
      ]
    },
    {
      "cell_type": "code",
      "execution_count": 114,
      "metadata": {
        "colab": {
          "base_uri": "https://localhost:8080/"
        },
        "id": "STsIY_I_IcF3",
        "outputId": "6097e723-fdce-409e-a47c-0a82e5772931"
      },
      "outputs": [
        {
          "output_type": "execute_result",
          "data": {
            "text/plain": [
              "80"
            ]
          },
          "metadata": {},
          "execution_count": 114
        }
      ],
      "source": [
        "len(Y_pred)"
      ]
    },
    {
      "cell_type": "code",
      "execution_count": 115,
      "metadata": {
        "colab": {
          "base_uri": "https://localhost:8080/"
        },
        "id": "tck980yvHEof",
        "outputId": "a0290a26-656f-41d2-8a16-6756dc45a91f"
      },
      "outputs": [
        {
          "output_type": "execute_result",
          "data": {
            "text/plain": [
              "array([2, 0, 0, 1, 1, 1, 2, 3, 2, 1, 3, 0, 0, 2, 1, 2, 3, 1, 1, 2, 3, 1,\n",
              "       3, 0, 3, 0, 2, 2, 0, 2, 3, 1, 1, 3, 2, 1, 0, 0, 1, 0, 0, 2, 3, 3,\n",
              "       1, 3, 0, 0, 0, 1, 2, 2, 0, 3, 0, 3, 1, 0, 1, 3, 2, 1, 1, 3, 3, 3,\n",
              "       1, 2, 3, 1, 3, 3, 1, 1, 3, 0, 3, 1, 1, 2])"
            ]
          },
          "metadata": {},
          "execution_count": 115
        }
      ],
      "source": [
        "y_pred= np.argmax(Y_pred, axis=1)\n",
        "y_pred"
      ]
    },
    {
      "cell_type": "code",
      "execution_count": 116,
      "metadata": {
        "colab": {
          "base_uri": "https://localhost:8080/"
        },
        "id": "VEvBOKI3LIHH",
        "outputId": "9c6bde2e-c439-4490-835c-505ff44536eb"
      },
      "outputs": [
        {
          "output_type": "execute_result",
          "data": {
            "text/plain": [
              "array([0, 0, 0, 0, 0, 0, 0, 0, 0, 0, 0, 0, 0, 0, 0, 0, 0, 0, 0, 0, 1, 1,\n",
              "       1, 1, 1, 1, 1, 1, 1, 1, 1, 1, 1, 1, 1, 1, 1, 1, 1, 1, 2, 2, 2, 2,\n",
              "       2, 2, 2, 2, 2, 2, 2, 2, 2, 2, 2, 2, 2, 2, 2, 2, 3, 3, 3, 3, 3, 3,\n",
              "       3, 3, 3, 3, 3, 3, 3, 3, 3, 3, 3, 3, 3, 3], dtype=int32)"
            ]
          },
          "metadata": {},
          "execution_count": 116
        }
      ],
      "source": [
        "test_generator.classes"
      ]
    },
    {
      "cell_type": "code",
      "execution_count": 117,
      "metadata": {
        "colab": {
          "base_uri": "https://localhost:8080/"
        },
        "id": "zkEJVG4RIixr",
        "outputId": "ef7a5c3a-ecc6-4ed1-8db4-04d1e609b02d"
      },
      "outputs": [
        {
          "output_type": "execute_result",
          "data": {
            "text/plain": [
              "80"
            ]
          },
          "metadata": {},
          "execution_count": 117
        }
      ],
      "source": [
        "len(y_pred)"
      ]
    },
    {
      "cell_type": "markdown",
      "metadata": {
        "id": "_kcniLKjH4fX"
      },
      "source": [
        "# Indexing the test dataset"
      ]
    },
    {
      "cell_type": "code",
      "execution_count": 118,
      "metadata": {
        "colab": {
          "base_uri": "https://localhost:8080/"
        },
        "id": "Gpb8ZdMwIC0G",
        "outputId": "ef831420-4f83-4df8-84f7-e71683dedf95"
      },
      "outputs": [
        {
          "output_type": "execute_result",
          "data": {
            "text/plain": [
              "4"
            ]
          },
          "metadata": {},
          "execution_count": 118
        }
      ],
      "source": [
        "len(test_generator)  # 4 classes in test generator"
      ]
    },
    {
      "cell_type": "code",
      "execution_count": 119,
      "metadata": {
        "colab": {
          "base_uri": "https://localhost:8080/"
        },
        "id": "eOaMaDUWH-eu",
        "outputId": "2e3061c4-e571-4ded-acb2-b58084c6d833"
      },
      "outputs": [
        {
          "output_type": "execute_result",
          "data": {
            "text/plain": [
              "['Bus', 'Car', 'Motorcycle', 'Truck']"
            ]
          },
          "metadata": {},
          "execution_count": 119
        }
      ],
      "source": [
        "target_names = list(test_generator.class_indices.keys())\n",
        "target_names"
      ]
    },
    {
      "cell_type": "markdown",
      "metadata": {
        "id": "bZ5YABuxEeKu"
      },
      "source": [
        "# Confution Matrix and Classification Report"
      ]
    },
    {
      "cell_type": "code",
      "execution_count": 120,
      "metadata": {
        "colab": {
          "base_uri": "https://localhost:8080/",
          "height": 848
        },
        "id": "pAdFQFapEige",
        "outputId": "bbff4e76-1c6c-41ed-f99e-d43bf5c15609"
      },
      "outputs": [
        {
          "output_type": "stream",
          "name": "stdout",
          "text": [
            "Classification Report\n",
            "              precision    recall  f1-score   support\n",
            "\n",
            "         Bus       0.22      0.20      0.21        20\n",
            "         Car       0.21      0.25      0.23        20\n",
            "  Motorcycle       0.19      0.15      0.17        20\n",
            "       Truck       0.36      0.40      0.38        20\n",
            "\n",
            "    accuracy                           0.25        80\n",
            "   macro avg       0.25      0.25      0.25        80\n",
            "weighted avg       0.25      0.25      0.25        80\n",
            "\n",
            "Confusion Matrix\n"
          ]
        },
        {
          "output_type": "execute_result",
          "data": {
            "text/plain": [
              "<Axes: >"
            ]
          },
          "metadata": {},
          "execution_count": 120
        },
        {
          "output_type": "display_data",
          "data": {
            "text/plain": [
              "<Figure size 1000x700 with 2 Axes>"
            ],
            "image/png": "[encoded data removed]"
          },
          "metadata": {}
        }
      ],
      "source": [
        "from sklearn.metrics import classification_report, confusion_matrix\n",
        "import seaborn as sn\n",
        "import pandas as pd\n",
        "\n",
        "print('Classification Report')\n",
        "# target_names = list(test_generator.class_indices.keys())\n",
        "print(classification_report(test_generator.classes, y_pred, target_names=target_names))\n",
        "print('Confusion Matrix')\n",
        "conf_mat = confusion_matrix(test_generator.classes, y_pred)\n",
        "df_cm = pd.DataFrame(conf_mat, index = target_names, columns = target_names)\n",
        "plt.figure(figsize = (10,7))\n",
        "sn.heatmap(df_cm, annot=True)"
      ]
    }
  ],
  "metadata": {
    "colab": {
      "provenance": []
    },
    "kernelspec": {
      "display_name": "Python 3",
      "name": "python3"
    },
    "language_info": {
      "name": "python"
    }
  },
  "nbformat": 4,
  "nbformat_minor": 0
}